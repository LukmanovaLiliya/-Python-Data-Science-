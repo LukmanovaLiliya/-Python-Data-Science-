{
  "nbformat": 4,
  "nbformat_minor": 0,
  "metadata": {
    "colab": {
      "name": "lesson_4.ipynb",
      "provenance": [],
      "collapsed_sections": [],
      "authorship_tag": "ABX9TyOJ25cS88fZjDBHcIJcCcpt",
      "include_colab_link": true
    },
    "kernelspec": {
      "name": "python3",
      "display_name": "Python 3"
    },
    "language_info": {
      "name": "python"
    }
  },
  "cells": [
    {
      "cell_type": "markdown",
      "metadata": {
        "id": "view-in-github",
        "colab_type": "text"
      },
      "source": [
        "<a href=\"https://colab.research.google.com/github/LukmanovaLiliya/-Python-Data-Science-/blob/LukmanovaLiliya-patch-1/lesson_4.ipynb\" target=\"_parent\"><img src=\"https://colab.research.google.com/assets/colab-badge.svg\" alt=\"Open In Colab\"/></a>"
      ]
    },
    {
      "cell_type": "markdown",
      "metadata": {
        "id": "MA-BbEdglUGy"
      },
      "source": [
        "**Тема “Обучение без учителя”**\n",
        "\n",
        "**Задание 1**\n",
        "\n",
        "Импортируйте библиотеки pandas, numpy и matplotlib.\n",
        "Загрузите \"Boston House Prices dataset\" из встроенных наборов \n",
        "данных библиотеки sklearn.\n",
        "Создайте датафреймы X и y из этих данных.\n",
        "Разбейте эти датафреймы на тренировочные (X_train, y_train) и тестовые (X_test, y_test)\n",
        "с помощью функции train_test_split так, чтобы размер тестовой выборки\n",
        "составлял 20% от всех данных, при этом аргумент random_state должен быть равен 42.\n",
        "Масштабируйте данные с помощью StandardScaler.\n",
        "Постройте модель TSNE на тренировочный данных с параметрами:\n",
        "n_components=2, learning_rate=250, random_state=42.\n",
        "Постройте диаграмму рассеяния на этих данных.\n"
      ]
    },
    {
      "cell_type": "code",
      "metadata": {
        "id": "mJopotXBlaKJ"
      },
      "source": [
        "import numpy as np\n",
        "import pandas as pd"
      ],
      "execution_count": 1,
      "outputs": []
    },
    {
      "cell_type": "code",
      "metadata": {
        "id": "HsDYjsA1i84W"
      },
      "source": [
        "from sklearn.datasets import load_boston\n",
        "boston = load_boston()\n",
        "\n",
        "boston.keys()\n",
        "\n",
        "data = boston['data']\n",
        "target = boston['target']\n",
        "feature_names = boston['feature_names']"
      ],
      "execution_count": 2,
      "outputs": []
    },
    {
      "cell_type": "code",
      "metadata": {
        "id": "ZJ7_XaJPpbzI"
      },
      "source": [
        "X = pd.DataFrame(data, columns=feature_names)"
      ],
      "execution_count": 3,
      "outputs": []
    },
    {
      "cell_type": "code",
      "metadata": {
        "id": "tz6wPvMtplCF"
      },
      "source": [
        "y = pd.DataFrame(target, columns=['price'])"
      ],
      "execution_count": 4,
      "outputs": []
    },
    {
      "cell_type": "code",
      "metadata": {
        "id": "IB5uMlhzpnHK"
      },
      "source": [
        "from sklearn.model_selection import train_test_split"
      ],
      "execution_count": 5,
      "outputs": []
    },
    {
      "cell_type": "code",
      "metadata": {
        "id": "DEDIc6zZppI4"
      },
      "source": [
        "X_train, X_test, y_train, y_test = train_test_split(X, y, test_size=0.20, random_state=42)"
      ],
      "execution_count": 6,
      "outputs": []
    },
    {
      "cell_type": "markdown",
      "metadata": {
        "id": "71ORHdBxqGKv"
      },
      "source": [
        "Масштабируйте данные с помощью StandardScaler. "
      ]
    },
    {
      "cell_type": "code",
      "metadata": {
        "id": "WUUpRCumqFwL"
      },
      "source": [
        "from sklearn.preprocessing import StandardScaler\n",
        "\n",
        "scaler = StandardScaler()"
      ],
      "execution_count": 7,
      "outputs": []
    },
    {
      "cell_type": "code",
      "metadata": {
        "id": "lofnHwu0ruv_"
      },
      "source": [
        "X_train_scaled = scaler.fit_transform(X_train)\n",
        "X_train_scaled = pd.DataFrame(X_train_scaled, columns=feature_names)\n",
        "\n",
        "X_test_scaled = scaler.fit_transform(X_test)\n",
        "X_test_scaled = pd.DataFrame(X_test_scaled, columns=feature_names)"
      ],
      "execution_count": 8,
      "outputs": []
    },
    {
      "cell_type": "markdown",
      "metadata": {
        "id": "ONNCUsHBrz4S"
      },
      "source": [
        "Постройте модель TSNE на тренировочный данных с параметрами: n_components=2, learning_rate=250, random_state=42. Постройте диаграмму рассеяния на этих данных."
      ]
    },
    {
      "cell_type": "code",
      "metadata": {
        "id": "xzsEzx90r0_0"
      },
      "source": [
        "from sklearn.manifold import TSNE"
      ],
      "execution_count": 9,
      "outputs": []
    },
    {
      "cell_type": "code",
      "metadata": {
        "colab": {
          "base_uri": "https://localhost:8080/"
        },
        "id": "upFT59iysfOZ",
        "outputId": "ee2b9efb-5dd1-4cbd-b7c0-904d11a55181"
      },
      "source": [
        "tsne = TSNE(n_components=2, learning_rate=250, random_state=42)\n",
        "\n",
        "X_train_tsne = tsne.fit_transform(X_train_scaled)\n",
        "\n",
        "print('До:{}'.format(X_train_scaled.shape))\n",
        "print('После:{}'.format(X_train_tsne.shape))"
      ],
      "execution_count": 28,
      "outputs": [
        {
          "output_type": "stream",
          "text": [
            "До:(404, 13)\n",
            "После:(404, 2)\n"
          ],
          "name": "stdout"
        }
      ]
    },
    {
      "cell_type": "markdown",
      "metadata": {
        "id": "iVcxlEOHQYXE"
      },
      "source": [
        "Юля, объясни, пожалуйста, почему без слова print, у меня выводится только последняя строка \"После\", а \"До\" не выводится."
      ]
    },
    {
      "cell_type": "markdown",
      "metadata": {
        "id": "ptkVfGsruGSI"
      },
      "source": [
        "Постройте диаграмму рассеяния на этих данных."
      ]
    },
    {
      "cell_type": "code",
      "metadata": {
        "id": "X66p7eDctiFn"
      },
      "source": [
        "import matplotlib.pyplot as plt"
      ],
      "execution_count": 11,
      "outputs": []
    },
    {
      "cell_type": "code",
      "metadata": {
        "colab": {
          "base_uri": "https://localhost:8080/",
          "height": 265
        },
        "id": "Jx1PeE_UtS3i",
        "outputId": "13b7354d-26fc-4c5d-d4eb-38e9667cba26"
      },
      "source": [
        "plt.scatter(X_train_tsne[:, 0], X_train_tsne[:, 1])\n",
        "\n",
        "plt.show()"
      ],
      "execution_count": 12,
      "outputs": [
        {
          "output_type": "display_data",
          "data": {
            "image/png": "[encoded data removed]",
            "text/plain": [
              "<Figure size 432x288 with 1 Axes>"
            ]
          },
          "metadata": {
            "tags": [],
            "needs_background": "light"
          }
        }
      ]
    },
    {
      "cell_type": "markdown",
      "metadata": {
        "id": "62VuyFgKHlz-"
      },
      "source": [
        "**Задание 2**\n",
        "\n",
        "С помощью KMeans разбейте данные из тренировочного набора на 3 кластера,\n",
        "используйте все признаки из датафрейма X_train.\n",
        "Параметр max_iter должен быть равен 100, random_state сделайте равным 42.\n",
        "Постройте еще раз диаграмму рассеяния на данных, полученных с помощью TSNE,\n",
        "и раскрасьте точки из разных кластеров разными цветами.\n",
        "Вычислите средние значения price и CRIM в разных кластерах.\n"
      ]
    },
    {
      "cell_type": "code",
      "metadata": {
        "id": "0T5MSKZ2tzcr"
      },
      "source": [
        "from sklearn.cluster import KMeans"
      ],
      "execution_count": 13,
      "outputs": []
    },
    {
      "cell_type": "code",
      "metadata": {
        "colab": {
          "base_uri": "https://localhost:8080/",
          "height": 265
        },
        "id": "eqwRcHWVtqFw",
        "outputId": "9509d6c1-58fd-468a-8389-5093739eac24"
      },
      "source": [
        "kmeans = KMeans(n_clusters=3,  random_state=42, max_iter=100)\n",
        "\n",
        "labels_train = kmeans.fit_predict(X_train_scaled)\n",
        "\n",
        "plt.scatter(X_train_tsne[:, 0], X_train_tsne[:, 1], c=labels_train)\n",
        "\n",
        "plt.show()"
      ],
      "execution_count": 15,
      "outputs": [
        {
          "output_type": "display_data",
          "data": {
            "image/png": "[encoded data removed]",
            "text/plain": [
              "<Figure size 432x288 with 1 Axes>"
            ]
          },
          "metadata": {
            "tags": [],
            "needs_background": "light"
          }
        }
      ]
    },
    {
      "cell_type": "markdown",
      "metadata": {
        "id": "FHCkScLhLnfA"
      },
      "source": [
        "Вычислите средние значения price и CRIM в разных кластерах."
      ]
    },
    {
      "cell_type": "code",
      "metadata": {
        "colab": {
          "base_uri": "https://localhost:8080/"
        },
        "id": "hYOiTh9nLSJT",
        "outputId": "b5917be0-2f82-44c2-f423-15d9155653f2"
      },
      "source": [
        "print('Средние значения price:')\n",
        "print('Кластер 1: {}'.format(y_train[labels_train == 0].mean()))\n",
        "print('Кластер 2: {}'.format(y_train[labels_train == 1].mean()))\n",
        "print('Кластер 3: {}'.format(y_train[labels_train == 2].mean()))\n",
        "print('Средние значения CRIM:')\n",
        "print('Кластер 1: {}'.format(X_train.loc[labels_train == 0, 'CRIM'].mean()))\n",
        "print('Кластер 2: {}'.format(X_train.loc[labels_train == 1, 'CRIM'].mean()))\n",
        "print('Кластер 3: {}'.format(X_train.loc[labels_train == 2, 'CRIM'].mean()))\n"
      ],
      "execution_count": 22,
      "outputs": [
        {
          "output_type": "stream",
          "text": [
            "Средние значения price:\n",
            "Кластер 0: price    27.874118\n",
            "dtype: float64\n",
            "Кластер 1: price    16.179688\n",
            "dtype: float64\n",
            "Кластер 2: price    24.971204\n",
            "dtype: float64\n",
            "Средние значения CRIM:\n",
            "Кластер 0: 0.0721184705882353\n",
            "Кластер 1: 10.715219062500003\n",
            "Кластер 2: 0.42098554973821983\n"
          ],
          "name": "stdout"
        }
      ]
    },
    {
      "cell_type": "markdown",
      "metadata": {
        "id": "lI0cXdPbMgOt"
      },
      "source": [
        "**Задание 3**\n",
        "\n",
        "Примените модель KMeans, построенную в предыдущем задании,\n",
        "к данным из тестового набора.\n",
        "Вычислите средние значения price и CRIM в разных кластерах на тестовых данных.\n"
      ]
    },
    {
      "cell_type": "code",
      "metadata": {
        "id": "kKf6AXlAN-IT"
      },
      "source": [
        "X_test_tsne = tsne.fit_transform(X_test_scaled)"
      ],
      "execution_count": 23,
      "outputs": []
    },
    {
      "cell_type": "code",
      "metadata": {
        "colab": {
          "base_uri": "https://localhost:8080/",
          "height": 265
        },
        "id": "tI7Ap5dGMpnF",
        "outputId": "eba072ba-c982-496f-dba7-0a0b32624c31"
      },
      "source": [
        "kmeans = KMeans(n_clusters=3,  random_state=42, max_iter=100)\n",
        "\n",
        "labels_test = kmeans.fit_predict(X_test_scaled)\n",
        "\n",
        "plt.scatter(X_test_tsne[:, 0], X_test_tsne[:, 1], c=labels_test)\n",
        "\n",
        "plt.show()"
      ],
      "execution_count": 25,
      "outputs": [
        {
          "output_type": "display_data",
          "data": {
            "image/png": "[encoded data removed]",
            "text/plain": [
              "<Figure size 432x288 with 1 Axes>"
            ]
          },
          "metadata": {
            "tags": [],
            "needs_background": "light"
          }
        }
      ]
    },
    {
      "cell_type": "code",
      "metadata": {
        "colab": {
          "base_uri": "https://localhost:8080/"
        },
        "id": "3RQ0uWkPOgU4",
        "outputId": "477f5afc-3dae-4d42-d686-5af66ec2c3fe"
      },
      "source": [
        "print('Средние значения price:')\n",
        "print('Кластер 1: {}'.format(y_test[labels_test == 0].mean()))\n",
        "print('Кластер 2: {}'.format(y_test[labels_test == 1].mean()))\n",
        "print('Кластер 3: {}'.format(y_test[labels_test == 2].mean()))\n",
        "print('Средние значения CRIM:')\n",
        "print('Кластер 1: {}'.format(X_test.loc[labels_test == 0, 'CRIM'].mean()))\n",
        "print('Кластер 2: {}'.format(X_test.loc[labels_test == 1, 'CRIM'].mean()))\n",
        "print('Кластер 3: {}'.format(X_test.loc[labels_test == 2, 'CRIM'].mean()))"
      ],
      "execution_count": 26,
      "outputs": [
        {
          "output_type": "stream",
          "text": [
            "Средние значения price:\n",
            "Кластер 0: price    16.710526\n",
            "dtype: float64\n",
            "Кластер 1: price    21.652\n",
            "dtype: float64\n",
            "Кластер 2: price    33.871429\n",
            "dtype: float64\n",
            "Средние значения CRIM:\n",
            "Кластер 0: 9.419181842105264\n",
            "Кластер 1: 0.2244212\n",
            "Кластер 2: 0.08618571428571427\n"
          ],
          "name": "stdout"
        }
      ]
    }
  ]
}